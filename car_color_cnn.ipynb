{
  "nbformat": 4,
  "nbformat_minor": 0,
  "metadata": {
    "colab": {
      "provenance": [],
      "authorship_tag": "ABX9TyMQ3EruZIG+N/uj3f0SVFil",
      "include_colab_link": true
    },
    "kernelspec": {
      "name": "python3",
      "display_name": "Python 3"
    },
    "language_info": {
      "name": "python"
    },
    "accelerator": "GPU",
    "gpuClass": "standard"
  },
  "cells": [
    {
      "cell_type": "markdown",
      "metadata": {
        "id": "view-in-github",
        "colab_type": "text"
      },
      "source": [
        "<a href=\"https://colab.research.google.com/github/manal-t07/Neural-Networks/blob/main/car_color_cnn.ipynb\" target=\"_parent\"><img src=\"https://colab.research.google.com/assets/colab-badge.svg\" alt=\"Open In Colab\"/></a>"
      ]
    },
    {
      "cell_type": "code",
      "execution_count": null,
      "metadata": {
        "id": "LRamBvpXahqO"
      },
      "outputs": [],
      "source": [
        "!pip install numpy\n",
        "!pip install pandas\n",
        "!pip install matplotlib\n",
        "!pip install colorthief\n",
        "!pip install tensorflow"
      ]
    },
    {
      "cell_type": "code",
      "source": [
        "from google.colab import drive\n",
        "drive.mount('/content/drive/')"
      ],
      "metadata": {
        "id": "GXaY7w8ZvpRQ"
      },
      "execution_count": null,
      "outputs": []
    },
    {
      "cell_type": "code",
      "source": [
        "import numpy as np \n",
        "import pandas as pd \n",
        "import matplotlib.pyplot as plt\n",
        "import os\n",
        "from colorthief import ColorThief\n",
        "from PIL import Image\n",
        "import tensorflow as tf\n",
        "from tensorflow.keras.models import Sequential, Model\n",
        "from tensorflow.keras.layers import Conv2D, MaxPooling2D, Dropout, Flatten, Dense, Input, BatchNormalization, Lambda, AveragePooling2D, ZeroPadding2D, Reshape, Activation\n",
        "from tensorflow.keras.layers import Concatenate\n",
        "from tensorflow.keras.optimizers import SGD\n",
        "from tensorflow.keras.callbacks import ModelCheckpoint\n",
        "from tensorflow.keras.preprocessing.image import ImageDataGenerator, load_img"
      ],
      "metadata": {
        "id": "GTRDawD4btt5",
        "colab": {
          "base_uri": "https://localhost:8080/",
          "height": 373
        },
        "outputId": "d90cd25b-fdf6-492d-a4cf-164a1e28f6e2"
      },
      "execution_count": null,
      "outputs": [
        {
          "output_type": "error",
          "ename": "ModuleNotFoundError",
          "evalue": "ignored",
          "traceback": [
            "\u001b[0;31m---------------------------------------------------------------------------\u001b[0m",
            "\u001b[0;31mModuleNotFoundError\u001b[0m                       Traceback (most recent call last)",
            "\u001b[0;32m<ipython-input-2-6c9084413b35>\u001b[0m in \u001b[0;36m<module>\u001b[0;34m\u001b[0m\n\u001b[1;32m      3\u001b[0m \u001b[0;32mimport\u001b[0m \u001b[0mmatplotlib\u001b[0m\u001b[0;34m.\u001b[0m\u001b[0mpyplot\u001b[0m \u001b[0;32mas\u001b[0m \u001b[0mplt\u001b[0m\u001b[0;34m\u001b[0m\u001b[0;34m\u001b[0m\u001b[0m\n\u001b[1;32m      4\u001b[0m \u001b[0;32mimport\u001b[0m \u001b[0mos\u001b[0m\u001b[0;34m\u001b[0m\u001b[0;34m\u001b[0m\u001b[0m\n\u001b[0;32m----> 5\u001b[0;31m \u001b[0;32mfrom\u001b[0m \u001b[0mcolorthief\u001b[0m \u001b[0;32mimport\u001b[0m \u001b[0mColorThief\u001b[0m\u001b[0;34m\u001b[0m\u001b[0;34m\u001b[0m\u001b[0m\n\u001b[0m\u001b[1;32m      6\u001b[0m \u001b[0;32mfrom\u001b[0m \u001b[0mPIL\u001b[0m \u001b[0;32mimport\u001b[0m \u001b[0mImage\u001b[0m\u001b[0;34m\u001b[0m\u001b[0;34m\u001b[0m\u001b[0m\n\u001b[1;32m      7\u001b[0m \u001b[0;32mimport\u001b[0m \u001b[0mtensorflow\u001b[0m \u001b[0;32mas\u001b[0m \u001b[0mtf\u001b[0m\u001b[0;34m\u001b[0m\u001b[0;34m\u001b[0m\u001b[0m\n",
            "\u001b[0;31mModuleNotFoundError\u001b[0m: No module named 'colorthief'",
            "",
            "\u001b[0;31m---------------------------------------------------------------------------\u001b[0;32m\nNOTE: If your import is failing due to a missing package, you can\nmanually install dependencies using either !pip or !apt.\n\nTo view examples of installing some common dependencies, click the\n\"Open Examples\" button below.\n\u001b[0;31m---------------------------------------------------------------------------\u001b[0m\n"
          ],
          "errorDetails": {
            "actions": [
              {
                "action": "open_url",
                "actionText": "Open Examples",
                "url": "/notebooks/snippets/importing_libraries.ipynb"
              }
            ]
          }
        }
      ]
    },
    {
      "cell_type": "code",
      "source": [
        "tf.test.is_built_with_cuda()"
      ],
      "metadata": {
        "colab": {
          "base_uri": "https://localhost:8080/",
          "height": 165
        },
        "id": "db5WoW9xcECu",
        "outputId": "4857a2d4-0da6-48b1-bb0a-2d55c0f22f40"
      },
      "execution_count": null,
      "outputs": [
        {
          "output_type": "error",
          "ename": "NameError",
          "evalue": "ignored",
          "traceback": [
            "\u001b[0;31m---------------------------------------------------------------------------\u001b[0m",
            "\u001b[0;31mNameError\u001b[0m                                 Traceback (most recent call last)",
            "\u001b[0;32m<ipython-input-1-a0494c174c5c>\u001b[0m in \u001b[0;36m<module>\u001b[0;34m\u001b[0m\n\u001b[0;32m----> 1\u001b[0;31m \u001b[0mtf\u001b[0m\u001b[0;34m.\u001b[0m\u001b[0mtest\u001b[0m\u001b[0;34m.\u001b[0m\u001b[0mis_built_with_cuda\u001b[0m\u001b[0;34m(\u001b[0m\u001b[0;34m)\u001b[0m\u001b[0;34m\u001b[0m\u001b[0;34m\u001b[0m\u001b[0m\n\u001b[0m",
            "\u001b[0;31mNameError\u001b[0m: name 'tf' is not defined"
          ]
        }
      ]
    },
    {
      "cell_type": "code",
      "source": [
        "tf.test.is_gpu_available(cuda_only=False, min_cuda_compute_capability=None)"
      ],
      "metadata": {
        "colab": {
          "base_uri": "https://localhost:8080/"
        },
        "id": "gXB0EKO8cHt_",
        "outputId": "61def47b-b44c-4f60-9e15-863e5d9c26fc"
      },
      "execution_count": null,
      "outputs": [
        {
          "output_type": "stream",
          "name": "stderr",
          "text": [
            "WARNING:tensorflow:From <ipython-input-5-78f884b5c1a9>:1: is_gpu_available (from tensorflow.python.framework.test_util) is deprecated and will be removed in a future version.\n",
            "Instructions for updating:\n",
            "Use `tf.config.list_physical_devices('GPU')` instead.\n"
          ]
        },
        {
          "output_type": "execute_result",
          "data": {
            "text/plain": [
              "True"
            ]
          },
          "metadata": {},
          "execution_count": 5
        }
      ]
    },
    {
      "cell_type": "code",
      "source": [
        "tf.config.list_physical_devices('GPU')"
      ],
      "metadata": {
        "colab": {
          "base_uri": "https://localhost:8080/"
        },
        "id": "MZcOBdcwcN24",
        "outputId": "e175a35c-a54f-41c4-80d6-ca4165160dbe"
      },
      "execution_count": null,
      "outputs": [
        {
          "output_type": "execute_result",
          "data": {
            "text/plain": [
              "[PhysicalDevice(name='/physical_device:GPU:0', device_type='GPU')]"
            ]
          },
          "metadata": {},
          "execution_count": 6
        }
      ]
    },
    {
      "cell_type": "code",
      "source": [
        "print(\"Num GPUs Available: \", len(tf.config.experimental.list_physical_devices('GPU')))"
      ],
      "metadata": {
        "colab": {
          "base_uri": "https://localhost:8080/"
        },
        "id": "vLwUNUHZcSyh",
        "outputId": "4f1d3750-03bc-4f6d-e6c9-34ec3285428c"
      },
      "execution_count": null,
      "outputs": [
        {
          "output_type": "stream",
          "name": "stdout",
          "text": [
            "Num GPUs Available:  1\n"
          ]
        }
      ]
    },
    {
      "cell_type": "code",
      "source": [
        "# Folder containing all the training data.\n",
        "car_train = \"Data/car_data/car_data/train/\"\n",
        "print('There are', len(os.listdir(car_train)),'folders in the training dataset')"
      ],
      "metadata": {
        "id": "TEJ_VjrZXB0c"
      },
      "execution_count": null,
      "outputs": []
    },
    {
      "cell_type": "code",
      "source": [
        "mylist = []\n",
        "for labels in os.listdir(car_train):\n",
        "    for label in os.listdir(car_train+labels): \n",
        "        car_add = car_train + labels + '/' + label\n",
        "        car_value = (labels, car_add)                \n",
        "        if car_value not in mylist:\n",
        "            mylist.append(car_value)\n",
        "            \n",
        "train_df = pd.DataFrame(np.array(mylist), columns= [\"car\", \"image path\"])"
      ],
      "metadata": {
        "id": "HNa031W0ZSkK"
      },
      "execution_count": null,
      "outputs": []
    },
    {
      "cell_type": "code",
      "source": [
        "# Create train_df\n",
        "train_df.sample(10)"
      ],
      "metadata": {
        "id": "fcvLHIPCZcYx"
      },
      "execution_count": null,
      "outputs": []
    },
    {
      "cell_type": "code",
      "source": [
        "# Folder containng all the files for the test set. \n",
        "car_test= \"Data/car_data/car_data/test/\"\n",
        "print('There are', len(os.listdir(car_test)),'folders in the test dataset')"
      ],
      "metadata": {
        "id": "gBgv0QYrZekh"
      },
      "execution_count": null,
      "outputs": []
    },
    {
      "cell_type": "code",
      "source": [
        "# Create test_df\n",
        "mylist2 = []\n",
        "for labels in os.listdir(car_test):\n",
        "    for label in os.listdir(car_test+labels): \n",
        "        car_add = car_test + labels + '/' + label\n",
        "        car_value = (labels, car_add)                \n",
        "        if car_value not in mylist:\n",
        "            mylist2.append(car_value)   \n",
        "\n",
        "test_df = pd.DataFrame(np.array(mylist2), columns= [\"car\", \"image path\"])"
      ],
      "metadata": {
        "id": "4PWPmbnRZgsS"
      },
      "execution_count": null,
      "outputs": []
    },
    {
      "cell_type": "code",
      "source": [
        "test_df.sample(10)"
      ],
      "metadata": {
        "id": "1xhGpX2LZjoJ"
      },
      "execution_count": null,
      "outputs": []
    },
    {
      "cell_type": "code",
      "source": [
        "# Load in colors.csv and create df with index as color\n",
        "clr_headers = ['color', 'full_name', 'hex', 'r', 'g', 'b'] # list for header\n",
        "colors = pd.read_csv('colors.csv', names=clr_headers, index_col = 'color') # Load in csv\n",
        "colors['rgb'] = list(zip(colors['r'], colors['g'], colors['b'])) # combine r/g/b as rgb tuple\n",
        "colors_df = colors.drop(columns=['full_name', 'hex', 'r', 'g', 'b']) # drop old columns and save to new df\n",
        "colors_dict = dict(zip(colors_df.index, colors_df['rgb'])) # create dictionary with color(key):rgb(value)\n",
        "\n",
        "def classify_color(filepath):\n",
        "    # Color thief will find the most dominant rgb color in an image\n",
        "    color_thief = ColorThief(filepath)\n",
        "    dominant_color = color_thief.get_color(quality=1)\n",
        "\n",
        "    # Manhattan distance between \"classification points\"\n",
        "    manhattan = lambda x,y : abs(x[0] - y[0]) + abs(x[1] - y[1]) + abs(x[2] - y[2]) \n",
        "    \n",
        "    # Find the best color in dictionary and find Manhattan distance\n",
        "    distances = {k: manhattan(v, dominant_color) for k, v in colors_dict.items()}\n",
        "    \n",
        "    # Minimum distance to color point\n",
        "    color = min(distances, key=distances.get) \n",
        "    return color"
      ],
      "metadata": {
        "id": "kOVi8mo2Zn9p"
      },
      "execution_count": null,
      "outputs": []
    },
    {
      "cell_type": "code",
      "source": [
        "# Will not re-run. Takes 2.5 hours.\n",
        "# train_df['color'] = train_df['image path'].apply(classify_color)"
      ],
      "metadata": {
        "id": "xrn-CttMZs1R"
      },
      "execution_count": null,
      "outputs": []
    },
    {
      "cell_type": "code",
      "source": [
        "# # Save to csv\n",
        "# train_df.to_csv('train_df_color')"
      ],
      "metadata": {
        "id": "HUGr8vPRZtQ6"
      },
      "execution_count": null,
      "outputs": []
    },
    {
      "cell_type": "code",
      "source": [
        "# Load in categorized data\n",
        "train_df = pd.read_csv('train_df_color.csv')\n",
        "train_df = train_df[['car', 'image path', 'color', 'car label']]"
      ],
      "metadata": {
        "id": "i8xxzkkYZvNC"
      },
      "execution_count": null,
      "outputs": []
    },
    {
      "cell_type": "code",
      "source": [
        "# Create column for car label based on color\n",
        "train_df['car_label'] = train_df.color.astype(\"category\").cat.codes\n",
        "train_df['car_label'] = train_df['car_label'].astype(\"str\")"
      ],
      "metadata": {
        "id": "UXqltGXQZxHR"
      },
      "execution_count": null,
      "outputs": []
    },
    {
      "cell_type": "code",
      "source": [
        "# Most frequent colors\n",
        "train_df.groupby(train_df['car_label']).count().sort_values(by='color', ascending=False).head(10)\n"
      ],
      "metadata": {
        "id": "SAx_GzJvZ05i"
      },
      "execution_count": null,
      "outputs": []
    },
    {
      "cell_type": "code",
      "source": [
        "train_img_df = train_df[['image path', 'car_label']].copy()\n",
        "train_img_df.sample(5)"
      ],
      "metadata": {
        "id": "C7jRByROZ3Ha"
      },
      "execution_count": null,
      "outputs": []
    },
    {
      "cell_type": "code",
      "source": [
        "train_img_df.shape"
      ],
      "metadata": {
        "id": "mSu5zXEDZ45x"
      },
      "execution_count": null,
      "outputs": []
    },
    {
      "cell_type": "code",
      "source": [
        "# # Will not re-run. Takes 2.5 hours.\n",
        "# test_df['color'] = test_df['image path'].apply(classify_color)"
      ],
      "metadata": {
        "id": "JPlR1SgyZ5Uq"
      },
      "execution_count": null,
      "outputs": []
    },
    {
      "cell_type": "code",
      "source": [
        "# # Save to csv\n",
        "# test_df.to_csv('Data/test_df_color')"
      ],
      "metadata": {
        "id": "F4ek0FyzZ7Ux"
      },
      "execution_count": null,
      "outputs": []
    },
    {
      "cell_type": "code",
      "source": [
        "test_df = pd.read_csv(\"test_df_color.csv\")"
      ],
      "metadata": {
        "id": "DOmCFMq2Z9B5"
      },
      "execution_count": null,
      "outputs": []
    },
    {
      "cell_type": "code",
      "source": [
        "test_df['car_label'] = test_df.color.astype(\"category\").cat.codes\n",
        "test_df['car_label'] = test_df['car_label'].astype(\"str\")"
      ],
      "metadata": {
        "id": "4b2b2CrVZ-sK"
      },
      "execution_count": null,
      "outputs": []
    },
    {
      "cell_type": "code",
      "source": [
        "test_df.head()"
      ],
      "metadata": {
        "id": "Qm9vTvAUaAHR"
      },
      "execution_count": null,
      "outputs": []
    },
    {
      "cell_type": "code",
      "source": [
        "test_df.groupby(test_df['car_label']).count().sort_values(by='color', ascending=False)"
      ],
      "metadata": {
        "id": "wqzIvpMvaBe5"
      },
      "execution_count": null,
      "outputs": []
    },
    {
      "cell_type": "code",
      "source": [
        "test_img_df = test_df[['image path', 'car_label']].copy()\n",
        "test_img_df.sample(5)"
      ],
      "metadata": {
        "id": "dlpc2c3VaErC"
      },
      "execution_count": null,
      "outputs": []
    },
    {
      "cell_type": "code",
      "source": [
        "test_img_df.shape"
      ],
      "metadata": {
        "id": "xmd9JT-TaGWC"
      },
      "execution_count": null,
      "outputs": []
    }
  ]
}